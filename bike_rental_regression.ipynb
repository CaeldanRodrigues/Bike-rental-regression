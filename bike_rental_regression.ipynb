{
  "nbformat": 4,
  "nbformat_minor": 0,
  "metadata": {
    "colab": {
      "provenance": []
    },
    "kernelspec": {
      "name": "python3",
      "display_name": "Python 3"
    },
    "language_info": {
      "name": "python"
    }
  },
  "cells": [
    {
      "cell_type": "code",
      "execution_count": 1,
      "metadata": {
        "id": "fhjDqke4prIL"
      },
      "outputs": [],
      "source": [
        "import numpy as np\n",
        "import pandas as pd\n",
        "import matplotlib.pyplot as plt\n",
        "from imblearn.over_sampling import RandomOverSampler\n",
        "from sklearn.preprocessing import StandardScaler\n",
        "import copy\n",
        "import seaborn as sns\n",
        "import tensorflow as tf\n",
        "from sklearn.linear_model import LinearRegression"
      ]
    },
    {
      "cell_type": "markdown",
      "source": [
        "dataset from https://archive.ics.uci.edu/ml/datasets/Seoul+Bike+Sharing+Demand#\n",
        "\n",
        "Data Source:\n",
        "http://data.seoul.go.kr/\n",
        "SOUTH KOREA PUBLIC HOLIDAYS. URL: publicholidays.go.kr"
      ],
      "metadata": {
        "id": "30LUX29-qAdd"
      }
    },
    {
      "cell_type": "code",
      "source": [
        "# !wget https://archive.ics.uci.edu/ml/machine-learning-databases/00560/SeoulBikeData.csv"
      ],
      "metadata": {
        "colab": {
          "base_uri": "https://localhost:8080/"
        },
        "id": "wIdFduL5qCFI",
        "outputId": "fdc2eaf1-9599-4b56-c445-a0b2bb4ac112"
      },
      "execution_count": 2,
      "outputs": [
        {
          "output_type": "stream",
          "name": "stdout",
          "text": [
            "--2023-04-02 11:17:03--  https://archive.ics.uci.edu/ml/machine-learning-databases/00560/SeoulBikeData.csv\n",
            "Resolving archive.ics.uci.edu (archive.ics.uci.edu)... 128.195.10.252\n",
            "Connecting to archive.ics.uci.edu (archive.ics.uci.edu)|128.195.10.252|:443... connected.\n",
            "HTTP request sent, awaiting response... 200 OK\n",
            "Length: 604166 (590K) [application/x-httpd-php]\n",
            "Saving to: ‘SeoulBikeData.csv’\n",
            "\n",
            "SeoulBikeData.csv   100%[===================>] 590.01K   640KB/s    in 0.9s    \n",
            "\n",
            "2023-04-02 11:17:04 (640 KB/s) - ‘SeoulBikeData.csv’ saved [604166/604166]\n",
            "\n"
          ]
        }
      ]
    },
    {
      "cell_type": "code",
      "source": [
        "dataset_cols = [\"bike_count\", \"hour\", \"temp\", \"humidity\", \"wind\", \"visibility\", \"dew_pt_temp\", \"radiation\", \"rain\", \"snow\", \"functional\"]"
      ],
      "metadata": {
        "id": "xUuDoWtaqGcq"
      },
      "execution_count": 3,
      "outputs": []
    },
    {
      "cell_type": "code",
      "source": [
        "df = pd.read_csv(\"SeoulBikeData.csv\")"
      ],
      "metadata": {
        "id": "0bAkKosisu_g"
      },
      "execution_count": 7,
      "outputs": []
    },
    {
      "cell_type": "code",
      "source": [],
      "metadata": {
        "id": "3tku1loGtAWO"
      },
      "execution_count": null,
      "outputs": []
    }
  ]
}