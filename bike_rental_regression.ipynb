{
  "nbformat": 4,
  "nbformat_minor": 0,
  "metadata": {
    "colab": {
      "provenance": []
    },
    "kernelspec": {
      "name": "python3",
      "display_name": "Python 3"
    },
    "language_info": {
      "name": "python"
    }
  },
  "cells": [
    {
      "cell_type": "code",
      "execution_count": 3,
      "metadata": {
        "id": "fhjDqke4prIL"
      },
      "outputs": [],
      "source": [
        "import numpy as np\n",
        "import pandas as pd\n",
        "import matplotlib.pyplot as plt\n",
        "from imblearn.over_sampling import RandomOverSampler\n",
        "from sklearn.preprocessing import StandardScaler\n",
        "import copy\n",
        "import seaborn as sns\n",
        "import tensorflow as tf"
      ]
    },
    {
      "cell_type": "markdown",
      "source": [
        "dataset from https://archive.ics.uci.edu/ml/datasets/Seoul+Bike+Sharing+Demand#"
      ],
      "metadata": {
        "id": "30LUX29-qAdd"
      }
    },
    {
      "cell_type": "code",
      "source": [
        "!wget https://archive.ics.uci.edu/ml/machine-learning-databases/00560/SeoulBikeData.csv"
      ],
      "metadata": {
        "colab": {
          "base_uri": "https://localhost:8080/"
        },
        "id": "wIdFduL5qCFI",
        "outputId": "1ebe8241-c55e-490c-edb1-d60afe76ed3a"
      },
      "execution_count": 1,
      "outputs": [
        {
          "output_type": "stream",
          "name": "stdout",
          "text": [
            "--2023-04-02 11:09:38--  https://archive.ics.uci.edu/ml/machine-learning-databases/00560/SeoulBikeData.csv\n",
            "Resolving archive.ics.uci.edu (archive.ics.uci.edu)... 128.195.10.252\n",
            "Connecting to archive.ics.uci.edu (archive.ics.uci.edu)|128.195.10.252|:443... connected.\n",
            "HTTP request sent, awaiting response... 200 OK\n",
            "Length: 604166 (590K) [application/x-httpd-php]\n",
            "Saving to: ‘SeoulBikeData.csv’\n",
            "\n",
            "SeoulBikeData.csv   100%[===================>] 590.01K   767KB/s    in 0.8s    \n",
            "\n",
            "2023-04-02 11:09:40 (767 KB/s) - ‘SeoulBikeData.csv’ saved [604166/604166]\n",
            "\n"
          ]
        }
      ]
    },
    {
      "cell_type": "code",
      "source": [],
      "metadata": {
        "id": "xUuDoWtaqGcq"
      },
      "execution_count": null,
      "outputs": []
    }
  ]
}